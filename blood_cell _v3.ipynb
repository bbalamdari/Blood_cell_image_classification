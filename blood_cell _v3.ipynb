{
  "cells": [
    {
      "cell_type": "markdown",
      "metadata": {
        "id": "n4w_1zf4RKsC"
      },
      "source": [
        "# Main"
      ]
    },
    {
      "cell_type": "code",
      "execution_count": null,
      "metadata": {
        "colab": {
          "base_uri": "https://localhost:8080/"
        },
        "id": "HZUu_KS6hja7",
        "outputId": "d761232c-7f89-4b9d-e927-dcaba1b097b7"
      },
      "outputs": [
        {
          "output_type": "stream",
          "name": "stdout",
          "text": [
            "Drive already mounted at /content/grive; to attempt to forcibly remount, call drive.mount(\"/content/grive\", force_remount=True).\n"
          ]
        }
      ],
      "source": [
        "# Mount into drive\n",
        "from google.colab import drive\n",
        "drive.mount(\"/content/grive\")"
      ]
    },
    {
      "cell_type": "code",
      "execution_count": null,
      "metadata": {
        "id": "FX9fJ3BbhjXy"
      },
      "outputs": [],
      "source": [
        "import os\n",
        "os.environ['TORCH_USE_CUDA_DSA'] = '1'\n",
        "import torch\n"
      ]
    },
    {
      "cell_type": "code",
      "execution_count": null,
      "metadata": {
        "id": "BiGiHRFox1tw"
      },
      "outputs": [],
      "source": [
        "import random\n",
        "\n",
        "# Set deterministic convolution algorithm\n",
        "os.environ['CUDNN_DETERMINISTIC'] = 'true'\n",
        "\n",
        "# Set deterministic cuDNN benchmark\n",
        "os.environ['CUDNN_BENCHMARK'] = 'false'\n",
        "\n",
        "# Set a fixed random seed\n",
        "random.seed(42)"
      ]
    },
    {
      "cell_type": "code",
      "execution_count": null,
      "metadata": {
        "id": "GQJa05UuNnYe"
      },
      "outputs": [],
      "source": [
        "import torch\n",
        "device = torch.device('cuda' if torch.cuda.is_available() else 'cpu')"
      ]
    },
    {
      "cell_type": "code",
      "execution_count": null,
      "metadata": {
        "id": "-oV5K3DUhjdr"
      },
      "outputs": [],
      "source": [
        "import numpy as np\n",
        "import plotly.express as px\n",
        "import matplotlib.pyplot as plt\n",
        "import seaborn as sns\n",
        "import tensorflow as tf\n",
        "from sklearn.metrics import accuracy_score, classification_report\n",
        "\n",
        "\n",
        "import torch\n",
        "import torch.nn as nn\n",
        "import torch.optim as optim\n",
        "from torch.utils.data import DataLoader, random_split\n",
        "\n",
        "\n",
        "import torch\n",
        "import torch.nn as nn\n"
      ]
    },
    {
      "cell_type": "code",
      "execution_count": null,
      "metadata": {
        "id": "5vcdXHzdhjg_"
      },
      "outputs": [],
      "source": [
        "import torch\n",
        "import torch.nn as nn\n",
        "import torch.nn.functional as F\n",
        "\n",
        "# Set fixed random seed\n",
        "torch.manual_seed(42)\n",
        "\n",
        "class Swish(nn.Module):\n",
        "    def forward(self, x):\n",
        "        return x * torch.sigmoid(x)\n",
        "\n",
        "\n",
        "class SpatialPyramidPooling(nn.Module):\n",
        "    def __init__(self, output_sizes):\n",
        "        super(SpatialPyramidPooling, self).__init__()\n",
        "        self.output_sizes = output_sizes\n",
        "\n",
        "    def forward(self, x):\n",
        "        batch_size, channels, height, width = x.size()\n",
        "        pooled_features = []\n",
        "\n",
        "        for output_size in self.output_sizes:\n",
        "            kh, kw = height // output_size, width // output_size\n",
        "            ph, pw = height % output_size, width % output_size\n",
        "\n",
        "            if ph == 0 and pw == 0:\n",
        "                pooled_features.append(F.max_pool2d(x, kernel_size=(kh, kw), stride=(kh, kw)))\n",
        "            else:\n",
        "                x_padded = F.pad(x, (0, pw, 0, ph))\n",
        "                pooled_features.append(F.max_pool2d(x_padded, kernel_size=(kh, kw), stride=(kh, kw)))\n",
        "\n",
        "        x = torch.cat(pooled_features, dim=1)\n",
        "        x = x.view(batch_size, -1)\n",
        "\n",
        "        return x\n",
        "\n",
        "\n",
        "class MyModel(nn.Module):\n",
        "    def __init__(self):\n",
        "        super(MyModel, self).__init__()\n",
        "        self.features = nn.Sequential(\n",
        "            nn.Conv2d(3, 64, kernel_size=3, stride=1, padding=1, dilation=1),\n",
        "            nn.BatchNorm2d(64),\n",
        "            Swish(),\n",
        "            nn.Conv2d(64, 128, kernel_size=3, stride=1, padding=1, dilation=1),\n",
        "            nn.BatchNorm2d(128),\n",
        "            Swish(),\n",
        "            nn.MaxPool2d(kernel_size=2, stride=2),\n",
        "            nn.Conv2d(128, 256, kernel_size=3, stride=1, padding=1, dilation=1),\n",
        "            nn.BatchNorm2d(256),\n",
        "            Swish(),\n",
        "            nn.Conv2d(256, 256, kernel_size=3, stride=1, padding=1, dilation=1),\n",
        "            nn.BatchNorm2d(256),\n",
        "            Swish(),\n",
        "            nn.Conv2d(256, 512, kernel_size=3, stride=1, padding=1, dilation=1),\n",
        "            nn.BatchNorm2d(512),\n",
        "            Swish(),\n",
        "            nn.MaxPool2d(kernel_size=2, stride=2),\n",
        "            SpatialPyramidPooling(output_sizes=[4, 4, 4])\n",
        "        )\n",
        "        self.classifier = nn.Sequential(\n",
        "            nn.Linear(512 * 48, 512),\n",
        "            Swish(),\n",
        "            nn.Dropout(p=0.5),\n",
        "            nn.Linear(512, 512),\n",
        "            Swish(),\n",
        "            nn.Dropout(p=0.5),\n",
        "            nn.Linear(512, 256),\n",
        "            Swish(),\n",
        "            nn.Dropout(p=0.5),\n",
        "            nn.Linear(256, 4)\n",
        "        )\n",
        "\n",
        "    def forward(self, x):\n",
        "        x = self.features(x)\n",
        "        x = self.classifier(x)\n",
        "        return x\n",
        "\n"
      ]
    },
    {
      "cell_type": "code",
      "execution_count": null,
      "metadata": {
        "id": "TjW4w_v8gTYW"
      },
      "outputs": [],
      "source": [
        "# Set a fixed random seed\n",
        "torch.manual_seed(42)\n",
        "\n",
        "# Define weight initialization\n",
        "def weight_init(m):\n",
        "    if isinstance(m, nn.Conv2d) or isinstance(m, nn.Linear):\n",
        "        nn.init.kaiming_uniform_(m.weight)"
      ]
    },
    {
      "cell_type": "code",
      "execution_count": null,
      "metadata": {
        "colab": {
          "base_uri": "https://localhost:8080/"
        },
        "id": "2j4OrYqvw8YA",
        "outputId": "c5753fbe-1c35-4d78-9b22-9670e0f204be"
      },
      "outputs": [
        {
          "output_type": "execute_result",
          "data": {
            "text/plain": [
              "MyModel(\n",
              "  (features): Sequential(\n",
              "    (0): Conv2d(3, 64, kernel_size=(3, 3), stride=(1, 1), padding=(1, 1))\n",
              "    (1): BatchNorm2d(64, eps=1e-05, momentum=0.1, affine=True, track_running_stats=True)\n",
              "    (2): Swish()\n",
              "    (3): Conv2d(64, 128, kernel_size=(3, 3), stride=(1, 1), padding=(1, 1))\n",
              "    (4): BatchNorm2d(128, eps=1e-05, momentum=0.1, affine=True, track_running_stats=True)\n",
              "    (5): Swish()\n",
              "    (6): MaxPool2d(kernel_size=2, stride=2, padding=0, dilation=1, ceil_mode=False)\n",
              "    (7): Conv2d(128, 256, kernel_size=(3, 3), stride=(1, 1), padding=(1, 1))\n",
              "    (8): BatchNorm2d(256, eps=1e-05, momentum=0.1, affine=True, track_running_stats=True)\n",
              "    (9): Swish()\n",
              "    (10): Conv2d(256, 256, kernel_size=(3, 3), stride=(1, 1), padding=(1, 1))\n",
              "    (11): BatchNorm2d(256, eps=1e-05, momentum=0.1, affine=True, track_running_stats=True)\n",
              "    (12): Swish()\n",
              "    (13): Conv2d(256, 512, kernel_size=(3, 3), stride=(1, 1), padding=(1, 1))\n",
              "    (14): BatchNorm2d(512, eps=1e-05, momentum=0.1, affine=True, track_running_stats=True)\n",
              "    (15): Swish()\n",
              "    (16): MaxPool2d(kernel_size=2, stride=2, padding=0, dilation=1, ceil_mode=False)\n",
              "    (17): SpatialPyramidPooling()\n",
              "  )\n",
              "  (classifier): Sequential(\n",
              "    (0): Linear(in_features=24576, out_features=512, bias=True)\n",
              "    (1): Swish()\n",
              "    (2): Dropout(p=0.5, inplace=False)\n",
              "    (3): Linear(in_features=512, out_features=512, bias=True)\n",
              "    (4): Swish()\n",
              "    (5): Dropout(p=0.5, inplace=False)\n",
              "    (6): Linear(in_features=512, out_features=256, bias=True)\n",
              "    (7): Swish()\n",
              "    (8): Dropout(p=0.5, inplace=False)\n",
              "    (9): Linear(in_features=256, out_features=4, bias=True)\n",
              "  )\n",
              ")"
            ]
          },
          "metadata": {},
          "execution_count": 19
        }
      ],
      "source": [
        "# Define your model\n",
        "num_classes = 4\n",
        "model = MyModel().to(device)\n",
        "# Initialize the model\n",
        "model.apply(weight_init)"
      ]
    },
    {
      "cell_type": "code",
      "execution_count": null,
      "metadata": {
        "colab": {
          "base_uri": "https://localhost:8080/"
        },
        "id": "DAtPYuViG7B2",
        "outputId": "c5365c3c-ff81-41e8-bd9d-5b58b0d5718f"
      },
      "outputs": [
        {
          "output_type": "stream",
          "name": "stdout",
          "text": [
            "Input size before the first linear layer: 24576\n"
          ]
        }
      ],
      "source": [
        "# Calculate the output size of feature extraction --this is just for check\n",
        "model = MyModel()\n",
        "dummy_input = torch.randn(1, 3, 224, 224)  # Batch size 1, 3 channels, 224x224 image\n",
        "features_output = model.features(dummy_input)\n",
        "num_features = features_output.size(1)\n",
        "print(\"Input size before the first linear layer:\", num_features)"
      ]
    },
    {
      "cell_type": "code",
      "execution_count": null,
      "metadata": {
        "id": "KD7d0dfEHBU_"
      },
      "outputs": [],
      "source": [
        "base = '/content/grive/MyDrive/archive (1)/dataset2-master/dataset2-master/images/TRAIN'\n",
        "training_set = '/content/grive/MyDrive/images/filtered/mix_images'"
      ]
    },
    {
      "cell_type": "code",
      "execution_count": null,
      "metadata": {
        "id": "osvIOkSwz1Kw"
      },
      "outputs": [],
      "source": [
        "from torchvision.datasets import ImageFolder\n",
        "from torchvision.transforms import transforms\n",
        "from torch.utils.data import DataLoader\n",
        "\n",
        "# Set a fixed random seed for data loader\n",
        "torch.manual_seed(42)\n",
        "\n",
        "# Define the directory path and image transformations\n",
        "train_directory = training_set\n",
        "image_transforms = transforms.Compose([\n",
        "    transforms.Resize((224, 224)),\n",
        "    transforms.ToTensor()\n",
        "])\n",
        "\n",
        "# Create the ImageFolder dataset\n",
        "train_dataset = ImageFolder(train_directory, transform=image_transforms)\n",
        "\n",
        "\n",
        "from torch.utils.data import Subset\n",
        "\n",
        "# Define the number of images to sample\n",
        "n = 4 * 250\n",
        "\n",
        "# Get the total number of images in the dataset\n",
        "total_images = len(train_dataset)\n",
        "\n",
        "# Generate random indices to sample from the dataset\n",
        "#random_indices = random.sample(range(total_images), n)\n",
        "\n",
        "# Create a Subset of the dataset with the randomly sampled indices\n",
        "#sampled_dataset = Subset(train_dataset, random_indices)\n",
        "\n",
        "# Create the DataLoader\n",
        "batch_size = 16\n",
        "\n",
        "# Create the DataLoader for the sampled dataset\n",
        "train_loader = DataLoader(train_dataset, batch_size=batch_size, shuffle=True, num_workers=0)\n"
      ]
    },
    {
      "cell_type": "code",
      "execution_count": null,
      "metadata": {
        "colab": {
          "base_uri": "https://localhost:8080/"
        },
        "id": "xZ65hoWzqUrH",
        "outputId": "7eb26ef6-242d-4c5a-aeb9-8d0d7bc7a1cc"
      },
      "outputs": [
        {
          "output_type": "stream",
          "name": "stdout",
          "text": [
            "Class Label: EOSINOPHIL, Class Index: 0\n",
            "Class Label: LYMPHOCYTE, Class Index: 1\n",
            "Class Label: MONOCYTE, Class Index: 2\n",
            "Class Label: NEUTROPHIL, Class Index: 3\n"
          ]
        }
      ],
      "source": [
        "# Get the class labels and their corresponding indixes\n",
        "class_labels = train_dataset.classes\n",
        "class_indices = train_dataset.class_to_idx\n",
        "\n",
        "# Mapping between class labels and indixes\n",
        "for label, index in class_indices.items():\n",
        "    print(f\"Class Label: {label}, Class Index: {index}\")\n"
      ]
    },
    {
      "cell_type": "code",
      "execution_count": null,
      "metadata": {
        "colab": {
          "base_uri": "https://localhost:8080/"
        },
        "id": "D3Yi1DIiX9mT",
        "outputId": "3a6a1c29-1681-4576-de3d-066e1ac9136f"
      },
      "outputs": [
        {
          "output_type": "stream",
          "name": "stdout",
          "text": [
            "Epoch 1: Loss: 2.721810591347674 Training accuracy: 24.83%\n",
            "Epoch 2: Loss: 1.494148740108977 Training accuracy: 25.90%\n",
            "Epoch 3: Loss: 1.4457717550561784 Training accuracy: 23.60%\n",
            "Epoch 4: Loss: 1.4273419082164764 Training accuracy: 26.10%\n",
            "Epoch 5: Loss: 1.4116973433088749 Training accuracy: 25.17%\n",
            "Epoch 6: Loss: 1.4057255666306678 Training accuracy: 24.73%\n",
            "Epoch 7: Loss: 1.3954755720940042 Training accuracy: 26.43%\n",
            "Epoch 8: Loss: 1.3959183344181547 Training accuracy: 25.23%\n",
            "Epoch 9: Loss: 1.3849595709049956 Training accuracy: 25.87%\n",
            "Epoch 10: Loss: 1.393145741934472 Training accuracy: 23.57%\n",
            "Epoch 11: Loss: 1.388344315772361 Training accuracy: 23.83%\n",
            "Epoch 12: Loss: 1.3894355442929776 Training accuracy: 24.27%\n",
            "Epoch 13: Loss: 1.386211487841099 Training accuracy: 26.13%\n",
            "Epoch 14: Loss: 1.3857553322264489 Training accuracy: 26.20%\n",
            "Epoch 15: Loss: 1.3867575253577942 Training accuracy: 25.03%\n",
            "Training time: 3572.465615272522\n"
          ]
        }
      ],
      "source": [
        "import torch.optim as optim\n",
        "from torch.optim.lr_scheduler import ReduceLROnPlateau\n",
        "import time\n",
        "\n",
        "# Set a fixed random seed for data loader\n",
        "torch.manual_seed(42)\n",
        "\n",
        "# Define the loss function and optimizer\n",
        "criterion = nn.CrossEntropyLoss()\n",
        "optimizer = optim.Adam(model.parameters(), lr=0.001)\n",
        "\n",
        "# Move the criterion to the device\n",
        "device = torch.device(\"cuda\" if torch.cuda.is_available() else \"cpu\")\n",
        "criterion = criterion.to(device)\n",
        "\n",
        "# Move the model to the appropriate device\n",
        "model = model.to(device)\n",
        "\n",
        "# Training loop\n",
        "num_epochs = 15\n",
        "best_loss = float('inf')\n",
        "patience = 10\n",
        "counter = 0\n",
        "\n",
        "# Create the learning rate scheduler\n",
        "scheduler = ReduceLROnPlateau(optimizer, mode='min', factor=0.1, patience=5)\n",
        "\n",
        "start = time.time()\n",
        "for epoch in range(num_epochs):\n",
        "    # Accumulate gradients over multiple batches\n",
        "    total_loss = 0.0\n",
        "    accumulation_steps = 4\n",
        "    correct_predictions = 0\n",
        "\n",
        "    for i, (batch_images, batch_labels) in enumerate(train_loader):\n",
        "        batch_images = batch_images.to(device)  # Send the input tensor to the appropriate device\n",
        "        batch_labels = batch_labels.to(device)  # Send the input tensor to the appropriate device\n",
        "\n",
        "        optimizer.zero_grad()\n",
        "\n",
        "        # Perform forward pass\n",
        "        outputs = model(batch_images)\n",
        "        loss = criterion(outputs, batch_labels)\n",
        "\n",
        "        total_loss += loss.item()\n",
        "\n",
        "        # Perform backward pass\n",
        "        loss.backward()\n",
        "\n",
        "        # Perform gradient accumulation\n",
        "        if (i + 1) % accumulation_steps == 0 or (i + 1) == len(train_loader):\n",
        "            optimizer.step()\n",
        "            optimizer.zero_grad()\n",
        "\n",
        "        # Calculate the accuracy\n",
        "        _, predicted = torch.max(outputs.data, 1)\n",
        "        correct_predictions += (predicted == batch_labels).sum().item()\n",
        "\n",
        "    total_loss /= len(train_loader)\n",
        "\n",
        "\n",
        "    # Update the learning rate scheduler\n",
        "    scheduler.step(total_loss)\n",
        "\n",
        "    # Epoch information and Calculate the accuracy\n",
        "    accuracy = correct_predictions / len(train_loader.dataset) * 100\n",
        "    print(f\"Epoch {epoch + 1}: Loss: {total_loss}\", f\"Training accuracy: {accuracy:.2f}%\")\n",
        "\n",
        "    # Check for early stopping\n",
        "    if total_loss < best_loss:\n",
        "        best_loss = total_loss\n",
        "        counter = 0\n",
        "    else:\n",
        "        counter += 1\n",
        "        if counter >= patience:\n",
        "            print(\"Early stopping triggered.\")\n",
        "            break\n",
        "\n",
        "\n",
        "end = time.time()\n",
        "print(f\"Training time: {end - start}\")\n"
      ]
    },
    {
      "cell_type": "code",
      "execution_count": null,
      "metadata": {
        "id": "Ybo__ZgubZeB"
      },
      "outputs": [],
      "source": [
        "# Save model\n",
        "torch.save(model.state_dict(), '/content/grive/MyDrive/model_objects/filtered/mix_images_july23_dialted3.pht')"
      ]
    },
    {
      "cell_type": "code",
      "execution_count": null,
      "metadata": {
        "id": "P_WUxwzk4Wep"
      },
      "outputs": [],
      "source": [
        "# Load the model\n",
        "model_upload = torch.load('/content/grive/MyDrive/model_objects/filtered/mix_images_6th_0_swish.pht', map_location=device)\n",
        "\n",
        "# Create an instance of MyModel\n",
        "model = MyModel()\n",
        "\n",
        "# Copy the loaded weights and biases to the model\n",
        "model.load_state_dict(model_upload)\n",
        "\n",
        "# Move the model to the appropriate device\n",
        "model = model.to(device)"
      ]
    },
    {
      "cell_type": "code",
      "execution_count": null,
      "metadata": {
        "colab": {
          "base_uri": "https://localhost:8080/",
          "height": 381
        },
        "id": "qvYMiy-Em8Gb",
        "outputId": "e79a459d-4a9e-4a35-ae0e-29dea77da3c2"
      },
      "outputs": [
        {
          "output_type": "error",
          "ename": "KeyboardInterrupt",
          "evalue": "ignored",
          "traceback": [
            "\u001b[0;31m---------------------------------------------------------------------------\u001b[0m",
            "\u001b[0;31mKeyboardInterrupt\u001b[0m                         Traceback (most recent call last)",
            "\u001b[0;32m<ipython-input-25-8aa9a89831e4>\u001b[0m in \u001b[0;36m<cell line: 7>\u001b[0;34m()\u001b[0m\n\u001b[1;32m      6\u001b[0m \u001b[0;31m# Predict on the test set\u001b[0m\u001b[0;34m\u001b[0m\u001b[0;34m\u001b[0m\u001b[0m\n\u001b[1;32m      7\u001b[0m \u001b[0;32mwith\u001b[0m \u001b[0mtorch\u001b[0m\u001b[0;34m.\u001b[0m\u001b[0mno_grad\u001b[0m\u001b[0;34m(\u001b[0m\u001b[0;34m)\u001b[0m\u001b[0;34m:\u001b[0m\u001b[0;34m\u001b[0m\u001b[0;34m\u001b[0m\u001b[0m\n\u001b[0;32m----> 8\u001b[0;31m     \u001b[0;32mfor\u001b[0m \u001b[0mbatch_images\u001b[0m\u001b[0;34m,\u001b[0m \u001b[0mbatch_labels\u001b[0m \u001b[0;32min\u001b[0m \u001b[0mtrain_loader\u001b[0m\u001b[0;34m:\u001b[0m\u001b[0;34m\u001b[0m\u001b[0;34m\u001b[0m\u001b[0m\n\u001b[0m\u001b[1;32m      9\u001b[0m         \u001b[0mbatch_images\u001b[0m \u001b[0;34m=\u001b[0m \u001b[0mbatch_images\u001b[0m\u001b[0;34m.\u001b[0m\u001b[0mto\u001b[0m\u001b[0;34m(\u001b[0m\u001b[0mdevice\u001b[0m\u001b[0;34m)\u001b[0m\u001b[0;34m\u001b[0m\u001b[0;34m\u001b[0m\u001b[0m\n\u001b[1;32m     10\u001b[0m         \u001b[0moutputs\u001b[0m \u001b[0;34m=\u001b[0m \u001b[0mmodel\u001b[0m\u001b[0;34m(\u001b[0m\u001b[0mbatch_images\u001b[0m\u001b[0;34m)\u001b[0m\u001b[0;34m\u001b[0m\u001b[0;34m\u001b[0m\u001b[0m\n",
            "\u001b[0;32m/usr/local/lib/python3.10/dist-packages/torch/utils/data/dataloader.py\u001b[0m in \u001b[0;36m__next__\u001b[0;34m(self)\u001b[0m\n\u001b[1;32m    631\u001b[0m                 \u001b[0;31m# TODO(https://github.com/pytorch/pytorch/issues/76750)\u001b[0m\u001b[0;34m\u001b[0m\u001b[0;34m\u001b[0m\u001b[0m\n\u001b[1;32m    632\u001b[0m                 \u001b[0mself\u001b[0m\u001b[0;34m.\u001b[0m\u001b[0m_reset\u001b[0m\u001b[0;34m(\u001b[0m\u001b[0;34m)\u001b[0m  \u001b[0;31m# type: ignore[call-arg]\u001b[0m\u001b[0;34m\u001b[0m\u001b[0;34m\u001b[0m\u001b[0m\n\u001b[0;32m--> 633\u001b[0;31m             \u001b[0mdata\u001b[0m \u001b[0;34m=\u001b[0m \u001b[0mself\u001b[0m\u001b[0;34m.\u001b[0m\u001b[0m_next_data\u001b[0m\u001b[0;34m(\u001b[0m\u001b[0;34m)\u001b[0m\u001b[0;34m\u001b[0m\u001b[0;34m\u001b[0m\u001b[0m\n\u001b[0m\u001b[1;32m    634\u001b[0m             \u001b[0mself\u001b[0m\u001b[0;34m.\u001b[0m\u001b[0m_num_yielded\u001b[0m \u001b[0;34m+=\u001b[0m \u001b[0;36m1\u001b[0m\u001b[0;34m\u001b[0m\u001b[0;34m\u001b[0m\u001b[0m\n\u001b[1;32m    635\u001b[0m             \u001b[0;32mif\u001b[0m \u001b[0mself\u001b[0m\u001b[0;34m.\u001b[0m\u001b[0m_dataset_kind\u001b[0m \u001b[0;34m==\u001b[0m \u001b[0m_DatasetKind\u001b[0m\u001b[0;34m.\u001b[0m\u001b[0mIterable\u001b[0m \u001b[0;32mand\u001b[0m\u001b[0;31m \u001b[0m\u001b[0;31m\\\u001b[0m\u001b[0;34m\u001b[0m\u001b[0;34m\u001b[0m\u001b[0m\n",
            "\u001b[0;32m/usr/local/lib/python3.10/dist-packages/torch/utils/data/dataloader.py\u001b[0m in \u001b[0;36m_next_data\u001b[0;34m(self)\u001b[0m\n\u001b[1;32m    675\u001b[0m     \u001b[0;32mdef\u001b[0m \u001b[0m_next_data\u001b[0m\u001b[0;34m(\u001b[0m\u001b[0mself\u001b[0m\u001b[0;34m)\u001b[0m\u001b[0;34m:\u001b[0m\u001b[0;34m\u001b[0m\u001b[0;34m\u001b[0m\u001b[0m\n\u001b[1;32m    676\u001b[0m         \u001b[0mindex\u001b[0m \u001b[0;34m=\u001b[0m \u001b[0mself\u001b[0m\u001b[0;34m.\u001b[0m\u001b[0m_next_index\u001b[0m\u001b[0;34m(\u001b[0m\u001b[0;34m)\u001b[0m  \u001b[0;31m# may raise StopIteration\u001b[0m\u001b[0;34m\u001b[0m\u001b[0;34m\u001b[0m\u001b[0m\n\u001b[0;32m--> 677\u001b[0;31m         \u001b[0mdata\u001b[0m \u001b[0;34m=\u001b[0m \u001b[0mself\u001b[0m\u001b[0;34m.\u001b[0m\u001b[0m_dataset_fetcher\u001b[0m\u001b[0;34m.\u001b[0m\u001b[0mfetch\u001b[0m\u001b[0;34m(\u001b[0m\u001b[0mindex\u001b[0m\u001b[0;34m)\u001b[0m  \u001b[0;31m# may raise StopIteration\u001b[0m\u001b[0;34m\u001b[0m\u001b[0;34m\u001b[0m\u001b[0m\n\u001b[0m\u001b[1;32m    678\u001b[0m         \u001b[0;32mif\u001b[0m \u001b[0mself\u001b[0m\u001b[0;34m.\u001b[0m\u001b[0m_pin_memory\u001b[0m\u001b[0;34m:\u001b[0m\u001b[0;34m\u001b[0m\u001b[0;34m\u001b[0m\u001b[0m\n\u001b[1;32m    679\u001b[0m             \u001b[0mdata\u001b[0m \u001b[0;34m=\u001b[0m \u001b[0m_utils\u001b[0m\u001b[0;34m.\u001b[0m\u001b[0mpin_memory\u001b[0m\u001b[0;34m.\u001b[0m\u001b[0mpin_memory\u001b[0m\u001b[0;34m(\u001b[0m\u001b[0mdata\u001b[0m\u001b[0;34m,\u001b[0m \u001b[0mself\u001b[0m\u001b[0;34m.\u001b[0m\u001b[0m_pin_memory_device\u001b[0m\u001b[0;34m)\u001b[0m\u001b[0;34m\u001b[0m\u001b[0;34m\u001b[0m\u001b[0m\n",
            "\u001b[0;32m/usr/local/lib/python3.10/dist-packages/torch/utils/data/_utils/fetch.py\u001b[0m in \u001b[0;36mfetch\u001b[0;34m(self, possibly_batched_index)\u001b[0m\n\u001b[1;32m     49\u001b[0m                 \u001b[0mdata\u001b[0m \u001b[0;34m=\u001b[0m \u001b[0mself\u001b[0m\u001b[0;34m.\u001b[0m\u001b[0mdataset\u001b[0m\u001b[0;34m.\u001b[0m\u001b[0m__getitems__\u001b[0m\u001b[0;34m(\u001b[0m\u001b[0mpossibly_batched_index\u001b[0m\u001b[0;34m)\u001b[0m\u001b[0;34m\u001b[0m\u001b[0;34m\u001b[0m\u001b[0m\n\u001b[1;32m     50\u001b[0m             \u001b[0;32melse\u001b[0m\u001b[0;34m:\u001b[0m\u001b[0;34m\u001b[0m\u001b[0;34m\u001b[0m\u001b[0m\n\u001b[0;32m---> 51\u001b[0;31m                 \u001b[0mdata\u001b[0m \u001b[0;34m=\u001b[0m \u001b[0;34m[\u001b[0m\u001b[0mself\u001b[0m\u001b[0;34m.\u001b[0m\u001b[0mdataset\u001b[0m\u001b[0;34m[\u001b[0m\u001b[0midx\u001b[0m\u001b[0;34m]\u001b[0m \u001b[0;32mfor\u001b[0m \u001b[0midx\u001b[0m \u001b[0;32min\u001b[0m \u001b[0mpossibly_batched_index\u001b[0m\u001b[0;34m]\u001b[0m\u001b[0;34m\u001b[0m\u001b[0;34m\u001b[0m\u001b[0m\n\u001b[0m\u001b[1;32m     52\u001b[0m         \u001b[0;32melse\u001b[0m\u001b[0;34m:\u001b[0m\u001b[0;34m\u001b[0m\u001b[0;34m\u001b[0m\u001b[0m\n\u001b[1;32m     53\u001b[0m             \u001b[0mdata\u001b[0m \u001b[0;34m=\u001b[0m \u001b[0mself\u001b[0m\u001b[0;34m.\u001b[0m\u001b[0mdataset\u001b[0m\u001b[0;34m[\u001b[0m\u001b[0mpossibly_batched_index\u001b[0m\u001b[0;34m]\u001b[0m\u001b[0;34m\u001b[0m\u001b[0;34m\u001b[0m\u001b[0m\n",
            "\u001b[0;32m/usr/local/lib/python3.10/dist-packages/torch/utils/data/_utils/fetch.py\u001b[0m in \u001b[0;36m<listcomp>\u001b[0;34m(.0)\u001b[0m\n\u001b[1;32m     49\u001b[0m                 \u001b[0mdata\u001b[0m \u001b[0;34m=\u001b[0m \u001b[0mself\u001b[0m\u001b[0;34m.\u001b[0m\u001b[0mdataset\u001b[0m\u001b[0;34m.\u001b[0m\u001b[0m__getitems__\u001b[0m\u001b[0;34m(\u001b[0m\u001b[0mpossibly_batched_index\u001b[0m\u001b[0;34m)\u001b[0m\u001b[0;34m\u001b[0m\u001b[0;34m\u001b[0m\u001b[0m\n\u001b[1;32m     50\u001b[0m             \u001b[0;32melse\u001b[0m\u001b[0;34m:\u001b[0m\u001b[0;34m\u001b[0m\u001b[0;34m\u001b[0m\u001b[0m\n\u001b[0;32m---> 51\u001b[0;31m                 \u001b[0mdata\u001b[0m \u001b[0;34m=\u001b[0m \u001b[0;34m[\u001b[0m\u001b[0mself\u001b[0m\u001b[0;34m.\u001b[0m\u001b[0mdataset\u001b[0m\u001b[0;34m[\u001b[0m\u001b[0midx\u001b[0m\u001b[0;34m]\u001b[0m \u001b[0;32mfor\u001b[0m \u001b[0midx\u001b[0m \u001b[0;32min\u001b[0m \u001b[0mpossibly_batched_index\u001b[0m\u001b[0;34m]\u001b[0m\u001b[0;34m\u001b[0m\u001b[0;34m\u001b[0m\u001b[0m\n\u001b[0m\u001b[1;32m     52\u001b[0m         \u001b[0;32melse\u001b[0m\u001b[0;34m:\u001b[0m\u001b[0;34m\u001b[0m\u001b[0;34m\u001b[0m\u001b[0m\n\u001b[1;32m     53\u001b[0m             \u001b[0mdata\u001b[0m \u001b[0;34m=\u001b[0m \u001b[0mself\u001b[0m\u001b[0;34m.\u001b[0m\u001b[0mdataset\u001b[0m\u001b[0;34m[\u001b[0m\u001b[0mpossibly_batched_index\u001b[0m\u001b[0;34m]\u001b[0m\u001b[0;34m\u001b[0m\u001b[0;34m\u001b[0m\u001b[0m\n",
            "\u001b[0;32m/usr/local/lib/python3.10/dist-packages/torchvision/datasets/folder.py\u001b[0m in \u001b[0;36m__getitem__\u001b[0;34m(self, index)\u001b[0m\n\u001b[1;32m    227\u001b[0m         \"\"\"\n\u001b[1;32m    228\u001b[0m         \u001b[0mpath\u001b[0m\u001b[0;34m,\u001b[0m \u001b[0mtarget\u001b[0m \u001b[0;34m=\u001b[0m \u001b[0mself\u001b[0m\u001b[0;34m.\u001b[0m\u001b[0msamples\u001b[0m\u001b[0;34m[\u001b[0m\u001b[0mindex\u001b[0m\u001b[0;34m]\u001b[0m\u001b[0;34m\u001b[0m\u001b[0;34m\u001b[0m\u001b[0m\n\u001b[0;32m--> 229\u001b[0;31m         \u001b[0msample\u001b[0m \u001b[0;34m=\u001b[0m \u001b[0mself\u001b[0m\u001b[0;34m.\u001b[0m\u001b[0mloader\u001b[0m\u001b[0;34m(\u001b[0m\u001b[0mpath\u001b[0m\u001b[0;34m)\u001b[0m\u001b[0;34m\u001b[0m\u001b[0;34m\u001b[0m\u001b[0m\n\u001b[0m\u001b[1;32m    230\u001b[0m         \u001b[0;32mif\u001b[0m \u001b[0mself\u001b[0m\u001b[0;34m.\u001b[0m\u001b[0mtransform\u001b[0m \u001b[0;32mis\u001b[0m \u001b[0;32mnot\u001b[0m \u001b[0;32mNone\u001b[0m\u001b[0;34m:\u001b[0m\u001b[0;34m\u001b[0m\u001b[0;34m\u001b[0m\u001b[0m\n\u001b[1;32m    231\u001b[0m             \u001b[0msample\u001b[0m \u001b[0;34m=\u001b[0m \u001b[0mself\u001b[0m\u001b[0;34m.\u001b[0m\u001b[0mtransform\u001b[0m\u001b[0;34m(\u001b[0m\u001b[0msample\u001b[0m\u001b[0;34m)\u001b[0m\u001b[0;34m\u001b[0m\u001b[0;34m\u001b[0m\u001b[0m\n",
            "\u001b[0;32m/usr/local/lib/python3.10/dist-packages/torchvision/datasets/folder.py\u001b[0m in \u001b[0;36mdefault_loader\u001b[0;34m(path)\u001b[0m\n\u001b[1;32m    266\u001b[0m         \u001b[0;32mreturn\u001b[0m \u001b[0maccimage_loader\u001b[0m\u001b[0;34m(\u001b[0m\u001b[0mpath\u001b[0m\u001b[0;34m)\u001b[0m\u001b[0;34m\u001b[0m\u001b[0;34m\u001b[0m\u001b[0m\n\u001b[1;32m    267\u001b[0m     \u001b[0;32melse\u001b[0m\u001b[0;34m:\u001b[0m\u001b[0;34m\u001b[0m\u001b[0;34m\u001b[0m\u001b[0m\n\u001b[0;32m--> 268\u001b[0;31m         \u001b[0;32mreturn\u001b[0m \u001b[0mpil_loader\u001b[0m\u001b[0;34m(\u001b[0m\u001b[0mpath\u001b[0m\u001b[0;34m)\u001b[0m\u001b[0;34m\u001b[0m\u001b[0;34m\u001b[0m\u001b[0m\n\u001b[0m\u001b[1;32m    269\u001b[0m \u001b[0;34m\u001b[0m\u001b[0m\n\u001b[1;32m    270\u001b[0m \u001b[0;34m\u001b[0m\u001b[0m\n",
            "\u001b[0;32m/usr/local/lib/python3.10/dist-packages/torchvision/datasets/folder.py\u001b[0m in \u001b[0;36mpil_loader\u001b[0;34m(path)\u001b[0m\n\u001b[1;32m    245\u001b[0m     \u001b[0;31m# open path as file to avoid ResourceWarning (https://github.com/python-pillow/Pillow/issues/835)\u001b[0m\u001b[0;34m\u001b[0m\u001b[0;34m\u001b[0m\u001b[0m\n\u001b[1;32m    246\u001b[0m     \u001b[0;32mwith\u001b[0m \u001b[0mopen\u001b[0m\u001b[0;34m(\u001b[0m\u001b[0mpath\u001b[0m\u001b[0;34m,\u001b[0m \u001b[0;34m\"rb\"\u001b[0m\u001b[0;34m)\u001b[0m \u001b[0;32mas\u001b[0m \u001b[0mf\u001b[0m\u001b[0;34m:\u001b[0m\u001b[0;34m\u001b[0m\u001b[0;34m\u001b[0m\u001b[0m\n\u001b[0;32m--> 247\u001b[0;31m         \u001b[0mimg\u001b[0m \u001b[0;34m=\u001b[0m \u001b[0mImage\u001b[0m\u001b[0;34m.\u001b[0m\u001b[0mopen\u001b[0m\u001b[0;34m(\u001b[0m\u001b[0mf\u001b[0m\u001b[0;34m)\u001b[0m\u001b[0;34m\u001b[0m\u001b[0;34m\u001b[0m\u001b[0m\n\u001b[0m\u001b[1;32m    248\u001b[0m         \u001b[0;32mreturn\u001b[0m \u001b[0mimg\u001b[0m\u001b[0;34m.\u001b[0m\u001b[0mconvert\u001b[0m\u001b[0;34m(\u001b[0m\u001b[0;34m\"RGB\"\u001b[0m\u001b[0;34m)\u001b[0m\u001b[0;34m\u001b[0m\u001b[0;34m\u001b[0m\u001b[0m\n\u001b[1;32m    249\u001b[0m \u001b[0;34m\u001b[0m\u001b[0m\n",
            "\u001b[0;32m/usr/local/lib/python3.10/dist-packages/PIL/Image.py\u001b[0m in \u001b[0;36mopen\u001b[0;34m(fp, mode, formats)\u001b[0m\n\u001b[1;32m   2982\u001b[0m         \u001b[0mexclusive_fp\u001b[0m \u001b[0;34m=\u001b[0m \u001b[0;32mTrue\u001b[0m\u001b[0;34m\u001b[0m\u001b[0;34m\u001b[0m\u001b[0m\n\u001b[1;32m   2983\u001b[0m \u001b[0;34m\u001b[0m\u001b[0m\n\u001b[0;32m-> 2984\u001b[0;31m     \u001b[0mprefix\u001b[0m \u001b[0;34m=\u001b[0m \u001b[0mfp\u001b[0m\u001b[0;34m.\u001b[0m\u001b[0mread\u001b[0m\u001b[0;34m(\u001b[0m\u001b[0;36m16\u001b[0m\u001b[0;34m)\u001b[0m\u001b[0;34m\u001b[0m\u001b[0;34m\u001b[0m\u001b[0m\n\u001b[0m\u001b[1;32m   2985\u001b[0m \u001b[0;34m\u001b[0m\u001b[0m\n\u001b[1;32m   2986\u001b[0m     \u001b[0mpreinit\u001b[0m\u001b[0;34m(\u001b[0m\u001b[0;34m)\u001b[0m\u001b[0;34m\u001b[0m\u001b[0;34m\u001b[0m\u001b[0m\n",
            "\u001b[0;31mKeyboardInterrupt\u001b[0m: "
          ]
        }
      ],
      "source": [
        "# Train set prediction\n",
        "from tensorflow.python.ops.math_ops import truncate_div\n",
        "appended_preds = torch.tensor([]).to(device)\n",
        "appended_true = torch.tensor([]).to(device)\n",
        "\n",
        "# Predict on the test set\n",
        "with torch.no_grad():\n",
        "    for batch_images, batch_labels in train_loader:\n",
        "        batch_images = batch_images.to(device)\n",
        "        outputs = model(batch_images)\n",
        "        softmax = nn.Softmax(dim=1)\n",
        "        probabilities = softmax(outputs)\n",
        "        _, predicted_indices = torch.max(probabilities, dim=1)\n",
        "        appended_preds = torch.cat((appended_preds, predicted_indices), dim=0)\n",
        "        appended_true = torch.cat((appended_true, batch_labels.to(device)), dim=0)\n",
        "\n",
        "\n",
        "# Train set accuracy\n",
        "total = len(appended_true)\n",
        "correct = (appended_preds == appended_true).sum().item()\n",
        "accuracy = correct / total * 100\n",
        "\n",
        "accuracy"
      ]
    },
    {
      "cell_type": "markdown",
      "metadata": {
        "id": "Al-qAwt9AcKe"
      },
      "source": [
        "# Test"
      ]
    },
    {
      "cell_type": "code",
      "execution_count": null,
      "metadata": {
        "id": "gMkw2kU76NZx"
      },
      "outputs": [],
      "source": [
        "test_set = '/content/grive/MyDrive/images/test_set'\n",
        "\n",
        "# Test set accuracy\n",
        "test_directory = test_set\n",
        "test_image_transforms = transforms.Compose([\n",
        "    transforms.Resize((224, 224)),\n",
        "    transforms.ToTensor()\n",
        "])\n",
        "\n",
        "# Create the ImageFolder dataset\n",
        "test_dataset = ImageFolder(test_directory, transform=test_image_transforms)\n",
        "\n",
        "import random\n",
        "from torch.utils.data import Subset\n",
        "\n",
        "# Define the number of images to sample\n",
        "n = 4 * 250\n",
        "\n",
        "# Get the total number of images in the dataset\n",
        "test_total_images = len(test_dataset)\n",
        "\n",
        "\n",
        "# Generate random indices to sample from the dataset\n",
        "random_indices = random.sample(range(test_total_images), n)\n",
        "\n",
        "# Create a Subset of the dataset with the randomly sampled indices\n",
        "#test_sampled_dataset = Subset(test_dataset, random_indices)\n",
        "\n",
        "# Create the DataLoader\n",
        "batch_size = 16\n",
        "\n",
        "# Create the DataLoader for the sampled dataset\n",
        "test_loader = DataLoader(test_dataset, batch_size=batch_size, shuffle=True)"
      ]
    },
    {
      "cell_type": "code",
      "execution_count": null,
      "metadata": {
        "colab": {
          "base_uri": "https://localhost:8080/"
        },
        "id": "2Eo3Ihc29aD8",
        "outputId": "028f0352-9063-4f64-fafa-27726d06945f"
      },
      "outputs": [
        {
          "output_type": "stream",
          "name": "stdout",
          "text": [
            "Class Label: EOSINOPHIL, Class Index: 0\n",
            "Class Label: LYMPHOCYTE, Class Index: 1\n",
            "Class Label: MONOCYTE, Class Index: 2\n",
            "Class Label: NEUTROPHIL, Class Index: 3\n"
          ]
        }
      ],
      "source": [
        "# Get the class labels and their corresponding indixes\n",
        "class_labels = test_dataset.classes\n",
        "class_indices = test_dataset.class_to_idx\n",
        "\n",
        "for label, index in class_indices.items():\n",
        "    print(f\"Class Label: {label}, Class Index: {index}\")\n"
      ]
    },
    {
      "cell_type": "code",
      "execution_count": null,
      "metadata": {
        "id": "3MQ4xcdR7W8c",
        "colab": {
          "base_uri": "https://localhost:8080/"
        },
        "outputId": "a8a252f8-b402-413f-fd47-393aaac99595"
      },
      "outputs": [
        {
          "output_type": "execute_result",
          "data": {
            "text/plain": [
              "25.1"
            ]
          },
          "metadata": {},
          "execution_count": 28
        }
      ],
      "source": [
        "# Test set prediction\n",
        "from tensorflow.python.ops.math_ops import truncate_div\n",
        "test_appended_preds = torch.tensor([]).to(device)\n",
        "test_appended_true = torch.tensor([]).to(device)\n",
        "\n",
        "# Predict on the test set\n",
        "with torch.no_grad():\n",
        "    for batch_images, batch_labels in test_loader:\n",
        "        batch_images = batch_images.to(device)\n",
        "        outputs = model(batch_images)\n",
        "        softmax = nn.Softmax(dim=1)\n",
        "        probabilities = softmax(outputs)\n",
        "        _, predicted_indices = torch.max(probabilities, dim=1)\n",
        "        test_appended_preds = torch.cat((test_appended_preds, predicted_indices), dim=0)\n",
        "        test_appended_true = torch.cat((test_appended_true, batch_labels.to(device)), dim=0)\n",
        "\n",
        "\n",
        "# Test set accuracy\n",
        "test_total = len(test_appended_true)\n",
        "test_correct = (test_appended_preds == test_appended_true).sum().item()\n",
        "test_accuracy = test_correct / test_total * 100\n",
        "\n",
        "test_accuracy"
      ]
    },
    {
      "cell_type": "code",
      "execution_count": null,
      "metadata": {
        "colab": {
          "base_uri": "https://localhost:8080/",
          "height": 451
        },
        "id": "2aV77fwDnp2w",
        "outputId": "1b02c769-f956-4432-a076-7e34c82f3356"
      },
      "outputs": [
        {
          "output_type": "display_data",
          "data": {
            "text/plain": [
              "<Figure size 640x480 with 2 Axes>"
            ],
            "image/png": "[encoded data removed]"
          },
          "metadata": {}
        }
      ],
      "source": [
        "from sklearn.metrics import confusion_matrix, ConfusionMatrixDisplay\n",
        "# Define the class labels\n",
        "class_labels = ['0', '1', '2', '3']\n",
        "\n",
        "# Convert to numpy\n",
        "predicted = test_appended_preds.cpu().numpy()\n",
        "true = test_appended_true.cpu().numpy()\n",
        "\n",
        "# Confusion matrix with normalization\n",
        "cm = confusion_matrix(true, predicted, normalize='true')\n",
        "\n",
        "cm_display = ConfusionMatrixDisplay(confusion_matrix=cm)\n",
        "\n",
        "cm_display.plot(include_values=True, values_format='.2f')\n",
        "\n",
        "plt.show()\n",
        "\n"
      ]
    },
    {
      "cell_type": "markdown",
      "metadata": {
        "id": "0uEFbpR0zrmy"
      },
      "source": [
        "# extract images after layers"
      ]
    },
    {
      "cell_type": "code",
      "execution_count": null,
      "metadata": {
        "id": "RvjeTetM7aUl"
      },
      "outputs": [],
      "source": [
        "from PIL import Image\n",
        "import torchvision.transforms as transforms\n",
        "import os\n",
        "\n",
        "device = torch.device('cpu')  # Specify the device as CPU\n",
        "\n",
        "# Move the model to the specified device\n",
        "model.to(device)\n",
        "\n",
        "# Define the target layers whose intermediate images you want to visualize\n",
        "target_layers = [model.features[0], model.features[13]]\n",
        "\n",
        "# Define a dictionary to store the intermediate images\n",
        "intermediate_images = {}\n",
        "\n",
        "# Define a hook function to capture the intermediate images\n",
        "def hook_fn(module, input, output):\n",
        "    intermediate_images[str(module)] = output.detach()\n",
        "\n",
        "# Register the hook for each target layer\n",
        "for layer in target_layers:\n",
        "    layer.register_forward_hook(hook_fn)\n",
        "\n",
        "# Load and preprocess the image\n",
        "image_path = '/content/grive/MyDrive/images/filtered/BASE/EOSINOPHIL/_0_5579.jpeg'\n",
        "image = Image.open(image_path)\n",
        "\n",
        "# Preprocess the image\n",
        "preprocess = transforms.Compose([\n",
        "    transforms.ToTensor(),\n",
        "    #transforms.Normalize(mean=[0.485, 0.456, 0.406], std=[0.229, 0.224, 0.225]), I am still not sure if we need this normalization or not.\n",
        "])\n",
        "\n",
        "# Move the input image tensor to the specified device\n",
        "image = preprocess(image).unsqueeze(0).to(device)\n",
        "\n",
        "# Pass the image through the model to get the output\n",
        "output = model(image)\n",
        "\n",
        "# Access the intermediate images from the dictionary\n",
        "for layer_name, image in intermediate_images.items():\n",
        "    # Split the tensor into separate channels\n",
        "    image_channels = torch.split(image, 1, dim=1)\n",
        "\n",
        "    # Specify the output directory and filename\n",
        "    output_directory = \"/content/grive/MyDrive/images/intermediate_images_initial_model\"\n",
        "    os.makedirs(output_directory, exist_ok=True)\n",
        "    output_filename = f\"{layer_name}_result_image.jpg\"\n",
        "    output_path = os.path.join(output_directory, output_filename)\n",
        "\n",
        "    # Convert each channel to a PIL image and save it\n",
        "    for i, channel in enumerate(image_channels):\n",
        "        channel_pil = transforms.ToPILImage()(channel.squeeze().cpu())\n",
        "        channel_pil.save(output_path)\n"
      ]
    }
  ],
  "metadata": {
    "accelerator": "GPU",
    "colab": {
      "machine_shape": "hm",
      "provenance": [],
      "gpuType": "T4"
    },
    "kernelspec": {
      "display_name": "Python 3",
      "name": "python3"
    },
    "language_info": {
      "name": "python"
    }
  },
  "nbformat": 4,
  "nbformat_minor": 0
}